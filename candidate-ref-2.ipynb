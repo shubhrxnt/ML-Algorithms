{
 "cells": [
  {
   "cell_type": "code",
   "execution_count": 1,
   "metadata": {},
   "outputs": [],
   "source": [
    "import pandas as pd\n",
    "import numpy as np\n",
    "\n",
    "data = pd.read_csv(\"weather_dataset.csv\")\n",
    "values = np.array(data.iloc[:,0:-1])\n",
    "target = np.array(data.iloc[:,-1])"
   ]
  },
  {
   "cell_type": "code",
   "execution_count": 2,
   "metadata": {},
   "outputs": [],
   "source": [
    "def candidate_algorithm(values, target): \n",
    "    specific_hyp = values[0].copy()\n",
    "    general_hyp = [[\"?\" for i in range(len(specific_hyp))] for i in range(len(specific_hyp))]\n",
    "\n",
    "    for i, h in enumerate(values):\n",
    "        if target[i] == \"yes\":\n",
    "            for x in range(len(specific_hyp)): \n",
    "                if h[x]!= specific_hyp[x]:                    \n",
    "                    specific_hyp[x] ='?'                     \n",
    "                    general_hyp[x][x] ='?'\n",
    "                   \n",
    "        if target[i] == \"no\":            \n",
    "            for x in range(len(specific_hyp)): \n",
    "                if h[x]!= specific_hyp[x]:                    \n",
    "                    general_hyp[x][x] = specific_hyp[x]                \n",
    "                else:                    \n",
    "                    general_hyp[x][x] = '?'        \n",
    "    \n",
    "    return specific_hyp, [val for val in general_hyp if val != ['?', '?', '?', '?', '?', '?']] "
   ]
  },
  {
   "cell_type": "code",
   "execution_count": 3,
   "metadata": {},
   "outputs": [
    {
     "data": {
      "text/plain": [
       "(array(['sunny', 'warm', '?', 'strong', '?', '?'], dtype=object),\n",
       " [['sunny', '?', '?', '?', '?', '?'], ['?', 'warm', '?', '?', '?', '?']])"
      ]
     },
     "execution_count": 3,
     "metadata": {},
     "output_type": "execute_result"
    }
   ],
   "source": [
    "candidate_algorithm(values, target)"
   ]
  },
  {
   "cell_type": "code",
   "execution_count": null,
   "metadata": {},
   "outputs": [],
   "source": []
  }
 ],
 "metadata": {
  "kernelspec": {
   "display_name": "Python 3 (ipykernel)",
   "language": "python",
   "name": "python3"
  },
  "language_info": {
   "codemirror_mode": {
    "name": "ipython",
    "version": 3
   },
   "file_extension": ".py",
   "mimetype": "text/x-python",
   "name": "python",
   "nbconvert_exporter": "python",
   "pygments_lexer": "ipython3",
   "version": "3.9.7"
  }
 },
 "nbformat": 4,
 "nbformat_minor": 4
}
