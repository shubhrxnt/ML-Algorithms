{
 "cells": [
  {
   "cell_type": "code",
   "execution_count": 1,
   "metadata": {},
   "outputs": [],
   "source": [
    "import pandas as pd"
   ]
  },
  {
   "cell_type": "code",
   "execution_count": 2,
   "metadata": {},
   "outputs": [],
   "source": [
    "data = pd.read_csv(\"books.csv\")"
   ]
  },
  {
   "cell_type": "code",
   "execution_count": 3,
   "metadata": {},
   "outputs": [
    {
     "data": {
      "text/html": [
       "<div>\n",
       "<style scoped>\n",
       "    .dataframe tbody tr th:only-of-type {\n",
       "        vertical-align: middle;\n",
       "    }\n",
       "\n",
       "    .dataframe tbody tr th {\n",
       "        vertical-align: top;\n",
       "    }\n",
       "\n",
       "    .dataframe thead th {\n",
       "        text-align: right;\n",
       "    }\n",
       "</style>\n",
       "<table border=\"1\" class=\"dataframe\">\n",
       "  <thead>\n",
       "    <tr style=\"text-align: right;\">\n",
       "      <th></th>\n",
       "      <th>edition</th>\n",
       "      <th>citation</th>\n",
       "      <th>prize</th>\n",
       "      <th>size</th>\n",
       "      <th>inlibrary</th>\n",
       "      <th>buy</th>\n",
       "    </tr>\n",
       "  </thead>\n",
       "  <tbody>\n",
       "    <tr>\n",
       "      <th>0</th>\n",
       "      <td>many</td>\n",
       "      <td>few</td>\n",
       "      <td>ok</td>\n",
       "      <td>small</td>\n",
       "      <td>no</td>\n",
       "      <td>no</td>\n",
       "    </tr>\n",
       "    <tr>\n",
       "      <th>1</th>\n",
       "      <td>one</td>\n",
       "      <td>many</td>\n",
       "      <td>not ok</td>\n",
       "      <td>big</td>\n",
       "      <td>no</td>\n",
       "      <td>yes</td>\n",
       "    </tr>\n",
       "    <tr>\n",
       "      <th>2</th>\n",
       "      <td>few</td>\n",
       "      <td>few</td>\n",
       "      <td>not ok</td>\n",
       "      <td>big</td>\n",
       "      <td>always</td>\n",
       "      <td>no</td>\n",
       "    </tr>\n",
       "    <tr>\n",
       "      <th>3</th>\n",
       "      <td>many</td>\n",
       "      <td>many</td>\n",
       "      <td>not ok</td>\n",
       "      <td>medium</td>\n",
       "      <td>no</td>\n",
       "      <td>yes</td>\n",
       "    </tr>\n",
       "    <tr>\n",
       "      <th>4</th>\n",
       "      <td>many</td>\n",
       "      <td>many</td>\n",
       "      <td>ok</td>\n",
       "      <td>small</td>\n",
       "      <td>no</td>\n",
       "      <td>yes</td>\n",
       "    </tr>\n",
       "  </tbody>\n",
       "</table>\n",
       "</div>"
      ],
      "text/plain": [
       "  edition citation   prize    size inlibrary  buy\n",
       "0    many      few      ok   small        no   no\n",
       "1     one     many  not ok     big        no  yes\n",
       "2     few      few  not ok     big    always   no\n",
       "3    many     many  not ok  medium        no  yes\n",
       "4    many     many      ok   small        no  yes"
      ]
     },
     "execution_count": 3,
     "metadata": {},
     "output_type": "execute_result"
    }
   ],
   "source": [
    "data.head(10)"
   ]
  },
  {
   "cell_type": "code",
   "execution_count": 26,
   "metadata": {},
   "outputs": [],
   "source": [
    "def package_hypothesis(hypothesis, outcome):\n",
    "    ln = dict()\n",
    "    ln['hypothesis'] = hypothesis\n",
    "    ln['outcome'] = outcome\n",
    "    return ln\n",
    "\n",
    "#Test hypothesises\n",
    "h1 = package_hypothesis([\"?\",\"?\",\"ok\",\"?\",\"no\"],\"no\")\n",
    "h2 = package_hypothesis([\"few\",\"few\",\"?\",\"?\",\"?\"],\"no\")\n",
    "h3 = package_hypothesis([\"many\",\"?\",\"ok\",\"?\",\"?\"],\"yes\")\n",
    "h4 = package_hypothesis([\"many\",\"few\",\"not ok\",\"?\",\"?\"],\"yes\")\n",
    "h5 = package_hypothesis([\"?\",\"many\",\"?\",\"medium\",\"?\"],\"yes\")\n",
    "h6 = package_hypothesis([\"?\",\"?\",\"?\",\"always\",\"?\"],\"no\")"
   ]
  },
  {
   "cell_type": "code",
   "execution_count": 39,
   "metadata": {},
   "outputs": [
    {
     "ename": "SyntaxError",
     "evalue": "invalid syntax (<ipython-input-39-0f346202bab8>, line 9)",
     "output_type": "error",
     "traceback": [
      "\u001b[0;36m  File \u001b[0;32m\"<ipython-input-39-0f346202bab8>\"\u001b[0;36m, line \u001b[0;32m9\u001b[0m\n\u001b[0;31m    if(!compare(hypo = h1['hypothesis'], values = list(data.iloc[i,:-1]))):\u001b[0m\n\u001b[0m       ^\u001b[0m\n\u001b[0;31mSyntaxError\u001b[0m\u001b[0;31m:\u001b[0m invalid syntax\n"
     ]
    }
   ],
   "source": [
    "def list_then_eliminate(data, *hypothesis):\n",
    "    consistent_space = []\n",
    "    inconsistent_space = []\n",
    "    \n",
    "    state = True\n",
    "    for hyp in hypothesis:\n",
    "        for i in range(data.shape[0]):\n",
    "            if(hyp['outcome'] == data.iloc[i,-1]):\n",
    "                if(not compare(hypo = h1['hypothesis'], values = list(data.iloc[i,:-1]))):\n",
    "                    inconsistent_space.append(hyp)\n",
    "                    state = False\n",
    "                    break\n",
    "        if(state):\n",
    "            consistent_space.append(hyp)\n",
    "            \n",
    "    return consistent_space"
   ]
  },
  {
   "cell_type": "code",
   "execution_count": 40,
   "metadata": {},
   "outputs": [
    {
     "name": "stdout",
     "output_type": "stream",
     "text": [
      "{'hypothesis': ['?', '?', 'ok', '?', 'no'], 'outcome': 'no'}\n"
     ]
    },
    {
     "data": {
      "text/plain": [
       "[]"
      ]
     },
     "execution_count": 40,
     "metadata": {},
     "output_type": "execute_result"
    }
   ],
   "source": [
    "list_then_eliminate(data, h1)"
   ]
  },
  {
   "cell_type": "code",
   "execution_count": 22,
   "metadata": {},
   "outputs": [
    {
     "data": {
      "text/html": [
       "<div>\n",
       "<style scoped>\n",
       "    .dataframe tbody tr th:only-of-type {\n",
       "        vertical-align: middle;\n",
       "    }\n",
       "\n",
       "    .dataframe tbody tr th {\n",
       "        vertical-align: top;\n",
       "    }\n",
       "\n",
       "    .dataframe thead th {\n",
       "        text-align: right;\n",
       "    }\n",
       "</style>\n",
       "<table border=\"1\" class=\"dataframe\">\n",
       "  <thead>\n",
       "    <tr style=\"text-align: right;\">\n",
       "      <th></th>\n",
       "      <th>edition</th>\n",
       "      <th>citation</th>\n",
       "      <th>prize</th>\n",
       "      <th>size</th>\n",
       "      <th>inlibrary</th>\n",
       "      <th>buy</th>\n",
       "    </tr>\n",
       "  </thead>\n",
       "  <tbody>\n",
       "    <tr>\n",
       "      <th>0</th>\n",
       "      <td>many</td>\n",
       "      <td>few</td>\n",
       "      <td>ok</td>\n",
       "      <td>small</td>\n",
       "      <td>no</td>\n",
       "      <td>no</td>\n",
       "    </tr>\n",
       "    <tr>\n",
       "      <th>1</th>\n",
       "      <td>one</td>\n",
       "      <td>many</td>\n",
       "      <td>not ok</td>\n",
       "      <td>big</td>\n",
       "      <td>no</td>\n",
       "      <td>yes</td>\n",
       "    </tr>\n",
       "    <tr>\n",
       "      <th>2</th>\n",
       "      <td>few</td>\n",
       "      <td>few</td>\n",
       "      <td>not ok</td>\n",
       "      <td>big</td>\n",
       "      <td>always</td>\n",
       "      <td>no</td>\n",
       "    </tr>\n",
       "    <tr>\n",
       "      <th>3</th>\n",
       "      <td>many</td>\n",
       "      <td>many</td>\n",
       "      <td>not ok</td>\n",
       "      <td>medium</td>\n",
       "      <td>no</td>\n",
       "      <td>yes</td>\n",
       "    </tr>\n",
       "    <tr>\n",
       "      <th>4</th>\n",
       "      <td>many</td>\n",
       "      <td>many</td>\n",
       "      <td>ok</td>\n",
       "      <td>small</td>\n",
       "      <td>no</td>\n",
       "      <td>yes</td>\n",
       "    </tr>\n",
       "  </tbody>\n",
       "</table>\n",
       "</div>"
      ],
      "text/plain": [
       "  edition citation   prize    size inlibrary  buy\n",
       "0    many      few      ok   small        no   no\n",
       "1     one     many  not ok     big        no  yes\n",
       "2     few      few  not ok     big    always   no\n",
       "3    many     many  not ok  medium        no  yes\n",
       "4    many     many      ok   small        no  yes"
      ]
     },
     "execution_count": 22,
     "metadata": {},
     "output_type": "execute_result"
    }
   ],
   "source": [
    "data"
   ]
  },
  {
   "cell_type": "code",
   "execution_count": 31,
   "metadata": {},
   "outputs": [
    {
     "data": {
      "text/plain": [
       "True"
      ]
     },
     "execution_count": 31,
     "metadata": {},
     "output_type": "execute_result"
    }
   ],
   "source": [
    "compare(hypo = h1['hypothesis'], values = list(data.iloc[0,:-1]))"
   ]
  }
 ],
 "metadata": {
  "kernelspec": {
   "display_name": "Python 3",
   "language": "python",
   "name": "python3"
  },
  "language_info": {
   "codemirror_mode": {
    "name": "ipython",
    "version": 3
   },
   "file_extension": ".py",
   "mimetype": "text/x-python",
   "name": "python",
   "nbconvert_exporter": "python",
   "pygments_lexer": "ipython3",
   "version": "3.8.3"
  }
 },
 "nbformat": 4,
 "nbformat_minor": 4
}
