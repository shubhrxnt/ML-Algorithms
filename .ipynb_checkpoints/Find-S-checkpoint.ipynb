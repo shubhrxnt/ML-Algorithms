{
 "cells": [
  {
   "cell_type": "code",
   "execution_count": 1,
   "metadata": {},
   "outputs": [],
   "source": [
    "import pandas as pd"
   ]
  },
  {
   "cell_type": "code",
   "execution_count": 2,
   "metadata": {},
   "outputs": [],
   "source": [
    "data = pd.read_csv(\"data_lab_1.csv\")"
   ]
  },
  {
   "cell_type": "code",
   "execution_count": 3,
   "metadata": {},
   "outputs": [
    {
     "data": {
      "text/html": [
       "<div>\n",
       "<style scoped>\n",
       "    .dataframe tbody tr th:only-of-type {\n",
       "        vertical-align: middle;\n",
       "    }\n",
       "\n",
       "    .dataframe tbody tr th {\n",
       "        vertical-align: top;\n",
       "    }\n",
       "\n",
       "    .dataframe thead th {\n",
       "        text-align: right;\n",
       "    }\n",
       "</style>\n",
       "<table border=\"1\" class=\"dataframe\">\n",
       "  <thead>\n",
       "    <tr style=\"text-align: right;\">\n",
       "      <th></th>\n",
       "      <th>sky</th>\n",
       "      <th>airtemp</th>\n",
       "      <th>humidity</th>\n",
       "      <th>wind</th>\n",
       "      <th>water</th>\n",
       "      <th>forecast</th>\n",
       "      <th>enjoysport</th>\n",
       "    </tr>\n",
       "  </thead>\n",
       "  <tbody>\n",
       "    <tr>\n",
       "      <th>0</th>\n",
       "      <td>sunny</td>\n",
       "      <td>warm</td>\n",
       "      <td>normal</td>\n",
       "      <td>strong</td>\n",
       "      <td>warm</td>\n",
       "      <td>same</td>\n",
       "      <td>yes</td>\n",
       "    </tr>\n",
       "    <tr>\n",
       "      <th>1</th>\n",
       "      <td>sunny</td>\n",
       "      <td>warm</td>\n",
       "      <td>high</td>\n",
       "      <td>strong</td>\n",
       "      <td>warm</td>\n",
       "      <td>same</td>\n",
       "      <td>yes</td>\n",
       "    </tr>\n",
       "    <tr>\n",
       "      <th>2</th>\n",
       "      <td>rainy</td>\n",
       "      <td>cold</td>\n",
       "      <td>high</td>\n",
       "      <td>strong</td>\n",
       "      <td>warm</td>\n",
       "      <td>change</td>\n",
       "      <td>no</td>\n",
       "    </tr>\n",
       "    <tr>\n",
       "      <th>3</th>\n",
       "      <td>sunny</td>\n",
       "      <td>warm</td>\n",
       "      <td>high</td>\n",
       "      <td>strong</td>\n",
       "      <td>cool</td>\n",
       "      <td>change</td>\n",
       "      <td>yes</td>\n",
       "    </tr>\n",
       "    <tr>\n",
       "      <th>4</th>\n",
       "      <td>rainy</td>\n",
       "      <td>cold</td>\n",
       "      <td>high</td>\n",
       "      <td>strong</td>\n",
       "      <td>cool</td>\n",
       "      <td>change</td>\n",
       "      <td>no</td>\n",
       "    </tr>\n",
       "    <tr>\n",
       "      <th>5</th>\n",
       "      <td>sunny</td>\n",
       "      <td>warm</td>\n",
       "      <td>normal</td>\n",
       "      <td>strong</td>\n",
       "      <td>cool</td>\n",
       "      <td>same</td>\n",
       "      <td>yes</td>\n",
       "    </tr>\n",
       "  </tbody>\n",
       "</table>\n",
       "</div>"
      ],
      "text/plain": [
       "     sky airtemp  humidity    wind water forecast enjoysport\n",
       "0  sunny     warm   normal  strong  warm     same        yes\n",
       "1  sunny     warm     high  strong  warm     same        yes\n",
       "2  rainy     cold     high  strong  warm   change         no\n",
       "3  sunny     warm     high  strong  cool   change        yes\n",
       "4  rainy     cold     high  strong  cool   change         no\n",
       "5  sunny     warm   normal  strong  cool     same        yes"
      ]
     },
     "execution_count": 3,
     "metadata": {},
     "output_type": "execute_result"
    }
   ],
   "source": [
    "data.head(10)"
   ]
  },
  {
   "cell_type": "code",
   "execution_count": 97,
   "metadata": {},
   "outputs": [],
   "source": [
    "from functools import reduce\n",
    "\n",
    "def find_dataset_info(data):\n",
    "    ncol = data.shape[1] - 1\n",
    "    uniqueValues = list(map(lambda x: len(data[x].unique()),data))[:-1]\n",
    "    nInstances = reduce((lambda x, y: x * y), uniqueValues)\n",
    "    \n",
    "    uniqueValues = list(map(lambda x: x+2, uniqueValues))\n",
    "    print(uniqueValues)\n",
    "    nSyntactial = reduce((lambda x, y: x * y), uniqueValues)\n",
    "    \n",
    "    uniqueValues = list(map(lambda x: x-1, uniqueValues))\n",
    "    nSemantic = 1 + reduce((lambda x, y: (x) * (y)), uniqueValues)\n",
    "    \n",
    "    print(\"Number of Instances = \" + str(nInstances))\n",
    "    print(\"Number of Syntactial = \" + str(nSyntactial))\n",
    "    print(\"Number of Semantic = \" + str(nSemantic))\n",
    "    \n",
    "    return [nInstances, nSyntactial, nSemantic]\n",
    "\n",
    "def list_to_string(ln):\n",
    "    temp = \"\"\n",
    "    for x in ln:\n",
    "        temp+=x\n",
    "        temp+=\" \"\n",
    "    return temp\n",
    "\n",
    "def findS_algorithm(data, positive_value = \"yes\"):\n",
    "    hypothesis = [\"Φ\" for _ in range(data.shape[1]-1)]\n",
    "    columns = data.columns\n",
    "    print(\"Initial value of hypothesis: \"+ list_to_string(hypothesis))\n",
    "    first_value = True\n",
    "    i = 0\n",
    "    while(i < data.shape[0]):\n",
    "        if(data.iloc[i,-1] != positive_value):\n",
    "            i+=1\n",
    "            continue\n",
    "        value = list(data.iloc[i,:-1])\n",
    "        if(first_value):\n",
    "            hypothesis = list(data.iloc[i,:-1])\n",
    "            first_value = False\n",
    "        else:\n",
    "            for item in range(len(value)):\n",
    "                if(value[item] != hypothesis[item]):\n",
    "                    hypothesis[item] = \"?\"\n",
    "        print(\"Hypothesis value after data example \"+ str(i+1)+\": \"+list_to_string(hypothesis))\n",
    "        i+=1\n",
    "    return hypothesis"
   ]
  },
  {
   "cell_type": "code",
   "execution_count": 98,
   "metadata": {},
   "outputs": [
    {
     "name": "stdout",
     "output_type": "stream",
     "text": [
      "Initial value of hypothesis: Φ Φ Φ Φ Φ Φ \n",
      "Hypothesis value after data example 1: sunny warm normal strong warm same \n",
      "Hypothesis value after data example 2: sunny warm ? strong warm same \n",
      "Hypothesis value after data example 4: sunny warm ? strong ? ? \n",
      "Hypothesis value after data example 6: sunny warm ? strong ? ? \n"
     ]
    },
    {
     "data": {
      "text/plain": [
       "['sunny', 'warm', '?', 'strong', '?', '?']"
      ]
     },
     "execution_count": 98,
     "metadata": {},
     "output_type": "execute_result"
    }
   ],
   "source": [
    "findS_algorithm(data)"
   ]
  },
  {
   "cell_type": "code",
   "execution_count": 99,
   "metadata": {},
   "outputs": [
    {
     "name": "stdout",
     "output_type": "stream",
     "text": [
      "[4, 4, 4, 3, 4, 4]\n",
      "Number of Instances = 32\n",
      "Number of Syntactial = 25920\n",
      "Number of Semantic = 2305\n"
     ]
    },
    {
     "data": {
      "text/plain": [
       "[32, 25920, 2305]"
      ]
     },
     "execution_count": 99,
     "metadata": {},
     "output_type": "execute_result"
    }
   ],
   "source": [
    "find_dataset_info(data)"
   ]
  },
  {
   "cell_type": "code",
   "execution_count": null,
   "metadata": {},
   "outputs": [],
   "source": []
  }
 ],
 "metadata": {
  "kernelspec": {
   "display_name": "Python 3",
   "language": "python",
   "name": "python3"
  },
  "language_info": {
   "codemirror_mode": {
    "name": "ipython",
    "version": 3
   },
   "file_extension": ".py",
   "mimetype": "text/x-python",
   "name": "python",
   "nbconvert_exporter": "python",
   "pygments_lexer": "ipython3",
   "version": "3.8.3"
  }
 },
 "nbformat": 4,
 "nbformat_minor": 4
}
