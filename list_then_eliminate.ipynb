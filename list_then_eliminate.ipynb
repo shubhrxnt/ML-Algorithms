{
 "cells": [
  {
   "cell_type": "code",
   "execution_count": 1,
   "metadata": {},
   "outputs": [],
   "source": [
    "import pandas as pd"
   ]
  },
  {
   "cell_type": "code",
   "execution_count": 2,
   "metadata": {},
   "outputs": [],
   "source": [
    "data = pd.read_csv(\"books.csv\")"
   ]
  },
  {
   "cell_type": "code",
   "execution_count": 3,
   "metadata": {},
   "outputs": [
    {
     "data": {
      "text/html": [
       "<div>\n",
       "<style scoped>\n",
       "    .dataframe tbody tr th:only-of-type {\n",
       "        vertical-align: middle;\n",
       "    }\n",
       "\n",
       "    .dataframe tbody tr th {\n",
       "        vertical-align: top;\n",
       "    }\n",
       "\n",
       "    .dataframe thead th {\n",
       "        text-align: right;\n",
       "    }\n",
       "</style>\n",
       "<table border=\"1\" class=\"dataframe\">\n",
       "  <thead>\n",
       "    <tr style=\"text-align: right;\">\n",
       "      <th></th>\n",
       "      <th>edition</th>\n",
       "      <th>citation</th>\n",
       "      <th>prize</th>\n",
       "      <th>size</th>\n",
       "      <th>inlibrary</th>\n",
       "      <th>buy</th>\n",
       "    </tr>\n",
       "  </thead>\n",
       "  <tbody>\n",
       "    <tr>\n",
       "      <th>0</th>\n",
       "      <td>many</td>\n",
       "      <td>few</td>\n",
       "      <td>ok</td>\n",
       "      <td>small</td>\n",
       "      <td>no</td>\n",
       "      <td>no</td>\n",
       "    </tr>\n",
       "    <tr>\n",
       "      <th>1</th>\n",
       "      <td>one</td>\n",
       "      <td>many</td>\n",
       "      <td>not ok</td>\n",
       "      <td>big</td>\n",
       "      <td>no</td>\n",
       "      <td>yes</td>\n",
       "    </tr>\n",
       "    <tr>\n",
       "      <th>2</th>\n",
       "      <td>few</td>\n",
       "      <td>few</td>\n",
       "      <td>not ok</td>\n",
       "      <td>big</td>\n",
       "      <td>always</td>\n",
       "      <td>no</td>\n",
       "    </tr>\n",
       "    <tr>\n",
       "      <th>3</th>\n",
       "      <td>many</td>\n",
       "      <td>many</td>\n",
       "      <td>not ok</td>\n",
       "      <td>medium</td>\n",
       "      <td>no</td>\n",
       "      <td>yes</td>\n",
       "    </tr>\n",
       "    <tr>\n",
       "      <th>4</th>\n",
       "      <td>many</td>\n",
       "      <td>many</td>\n",
       "      <td>ok</td>\n",
       "      <td>small</td>\n",
       "      <td>no</td>\n",
       "      <td>yes</td>\n",
       "    </tr>\n",
       "  </tbody>\n",
       "</table>\n",
       "</div>"
      ],
      "text/plain": [
       "  edition citation   prize    size inlibrary  buy\n",
       "0    many      few      ok   small        no   no\n",
       "1     one     many  not ok     big        no  yes\n",
       "2     few      few  not ok     big    always   no\n",
       "3    many     many  not ok  medium        no  yes\n",
       "4    many     many      ok   small        no  yes"
      ]
     },
     "execution_count": 3,
     "metadata": {},
     "output_type": "execute_result"
    }
   ],
   "source": [
    "data.head(10)"
   ]
  },
  {
   "cell_type": "code",
   "execution_count": 4,
   "metadata": {},
   "outputs": [],
   "source": [
    "def package_hypothesis(hypothesis, outcome):\n",
    "    ln = dict()\n",
    "    ln['hypothesis'] = hypothesis\n",
    "    ln['outcome'] = outcome\n",
    "    return ln\n",
    "\n",
    "#Test hypothesises\n",
    "h1 = package_hypothesis([\"?\",\"?\",\"ok\",\"?\",\"?\"],\"no\")\n",
    "h2 = package_hypothesis([\"few\",\"few\",\"?\",\"?\",\"?\"],\"no\")\n",
    "h3 = package_hypothesis([\"many\",\"?\",\"ok\",\"?\",\"?\"],\"yes\")\n",
    "h4 = package_hypothesis([\"many\",\"few\",\"not ok\",\"?\",\"?\"],\"yes\")\n",
    "h5 = package_hypothesis([\"?\",\"many\",\"?\",\"medium\",\"?\"],\"yes\")\n",
    "h6 = package_hypothesis([\"?\",\"?\",\"?\",\"always\",\"?\"],\"no\")\n",
    "h7 = package_hypothesis([\"?\",\"many\",\"?\",\"?\",\"?\"],\"yes\")\n",
    "h8 = package_hypothesis([\"?\",\"few\",\"?\",\"?\",\"?\"],\"no\")"
   ]
  },
  {
   "cell_type": "code",
   "execution_count": 5,
   "metadata": {},
   "outputs": [],
   "source": [
    "def compare(values, hypo):\n",
    "    for i in range(len(values)):\n",
    "        if(hypo[i] != \"?\"):\n",
    "            if(values[i] != hypo[i]):\n",
    "                return False\n",
    "    return True\n",
    "\n",
    "def list_then_eliminate(data, *hypothesis):\n",
    "    consistent_space = []\n",
    "    inconsistent_space = []\n",
    "    \n",
    "    for hyp in hypothesis:\n",
    "        state = True\n",
    "        for i in range(data.shape[0]):\n",
    "            if(hyp['outcome'] == data.iloc[i,-1]):\n",
    "                if(not compare(hypo = hyp['hypothesis'], values = list(data.iloc[i,:-1])[:-1])):\n",
    "                    inconsistent_space.append(hyp)\n",
    "                    state = False\n",
    "                    break\n",
    "        if(state):\n",
    "            consistent_space.append(hyp)\n",
    "            \n",
    "    return (inconsistent_space, consistent_space)"
   ]
  },
  {
   "cell_type": "code",
   "execution_count": 6,
   "metadata": {},
   "outputs": [
    {
     "data": {
      "text/plain": [
       "([{'hypothesis': ['?', '?', 'ok', '?', '?'], 'outcome': 'no'},\n",
       "  {'hypothesis': ['few', 'few', '?', '?', '?'], 'outcome': 'no'},\n",
       "  {'hypothesis': ['many', '?', 'ok', '?', '?'], 'outcome': 'yes'},\n",
       "  {'hypothesis': ['many', 'few', 'not ok', '?', '?'], 'outcome': 'yes'},\n",
       "  {'hypothesis': ['?', 'many', '?', 'medium', '?'], 'outcome': 'yes'},\n",
       "  {'hypothesis': ['?', '?', '?', 'always', '?'], 'outcome': 'no'}],\n",
       " [{'hypothesis': ['?', 'many', '?', '?', '?'], 'outcome': 'yes'},\n",
       "  {'hypothesis': ['?', 'few', '?', '?', '?'], 'outcome': 'no'}])"
      ]
     },
     "execution_count": 6,
     "metadata": {},
     "output_type": "execute_result"
    }
   ],
   "source": [
    "list_then_eliminate(data, h1,h2,h3,h4,h5,h6,h7,h8)"
   ]
  },
  {
   "cell_type": "code",
   "execution_count": null,
   "metadata": {},
   "outputs": [],
   "source": []
  }
 ],
 "metadata": {
  "kernelspec": {
   "display_name": "Python 3 (ipykernel)",
   "language": "python",
   "name": "python3"
  },
  "language_info": {
   "codemirror_mode": {
    "name": "ipython",
    "version": 3
   },
   "file_extension": ".py",
   "mimetype": "text/x-python",
   "name": "python",
   "nbconvert_exporter": "python",
   "pygments_lexer": "ipython3",
   "version": "3.9.7"
  }
 },
 "nbformat": 4,
 "nbformat_minor": 4
}
