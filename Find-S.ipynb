{
 "cells": [
  {
   "cell_type": "code",
   "execution_count": 1,
   "metadata": {},
   "outputs": [],
   "source": [
    "import pandas as pd"
   ]
  },
  {
   "cell_type": "code",
   "execution_count": 3,
   "metadata": {},
   "outputs": [],
   "source": [
    "data = pd.read_csv(\"books_dataset.csv\")"
   ]
  },
  {
   "cell_type": "code",
   "execution_count": 4,
   "metadata": {},
   "outputs": [
    {
     "data": {
      "text/html": [
       "<div>\n",
       "<style scoped>\n",
       "    .dataframe tbody tr th:only-of-type {\n",
       "        vertical-align: middle;\n",
       "    }\n",
       "\n",
       "    .dataframe tbody tr th {\n",
       "        vertical-align: top;\n",
       "    }\n",
       "\n",
       "    .dataframe thead th {\n",
       "        text-align: right;\n",
       "    }\n",
       "</style>\n",
       "<table border=\"1\" class=\"dataframe\">\n",
       "  <thead>\n",
       "    <tr style=\"text-align: right;\">\n",
       "      <th></th>\n",
       "      <th>edition</th>\n",
       "      <th>citation</th>\n",
       "      <th>prize</th>\n",
       "      <th>size</th>\n",
       "      <th>inlibrary</th>\n",
       "      <th>buy</th>\n",
       "    </tr>\n",
       "  </thead>\n",
       "  <tbody>\n",
       "    <tr>\n",
       "      <th>0</th>\n",
       "      <td>many</td>\n",
       "      <td>few</td>\n",
       "      <td>ok</td>\n",
       "      <td>small</td>\n",
       "      <td>no</td>\n",
       "      <td>no</td>\n",
       "    </tr>\n",
       "    <tr>\n",
       "      <th>1</th>\n",
       "      <td>one</td>\n",
       "      <td>many</td>\n",
       "      <td>not ok</td>\n",
       "      <td>big</td>\n",
       "      <td>no</td>\n",
       "      <td>yes</td>\n",
       "    </tr>\n",
       "    <tr>\n",
       "      <th>2</th>\n",
       "      <td>few</td>\n",
       "      <td>few</td>\n",
       "      <td>not ok</td>\n",
       "      <td>big</td>\n",
       "      <td>always</td>\n",
       "      <td>no</td>\n",
       "    </tr>\n",
       "    <tr>\n",
       "      <th>3</th>\n",
       "      <td>many</td>\n",
       "      <td>many</td>\n",
       "      <td>not ok</td>\n",
       "      <td>medium</td>\n",
       "      <td>no</td>\n",
       "      <td>yes</td>\n",
       "    </tr>\n",
       "    <tr>\n",
       "      <th>4</th>\n",
       "      <td>many</td>\n",
       "      <td>many</td>\n",
       "      <td>ok</td>\n",
       "      <td>small</td>\n",
       "      <td>no</td>\n",
       "      <td>yes</td>\n",
       "    </tr>\n",
       "  </tbody>\n",
       "</table>\n",
       "</div>"
      ],
      "text/plain": [
       "  edition citation   prize    size inlibrary  buy\n",
       "0    many      few      ok   small        no   no\n",
       "1     one     many  not ok     big        no  yes\n",
       "2     few      few  not ok     big    always   no\n",
       "3    many     many  not ok  medium        no  yes\n",
       "4    many     many      ok   small        no  yes"
      ]
     },
     "execution_count": 4,
     "metadata": {},
     "output_type": "execute_result"
    }
   ],
   "source": [
    "data.head(10)"
   ]
  },
  {
   "cell_type": "code",
   "execution_count": 5,
   "metadata": {},
   "outputs": [],
   "source": [
    "from functools import reduce\n",
    "\n",
    "def find_dataset_info(data):\n",
    "    ncol = data.shape[1] - 1\n",
    "    uniqueValues = list(map(lambda x: len(data[x].unique()),data))[:-1]\n",
    "    nInstances = reduce((lambda x, y: x * y), uniqueValues)\n",
    "    \n",
    "    uniqueValues = list(map(lambda x: x+2, uniqueValues))\n",
    "    nSyntactial = reduce((lambda x, y: x * y), uniqueValues)\n",
    "    \n",
    "    uniqueValues = list(map(lambda x: x-1, uniqueValues))\n",
    "    nSemantic = 1 + reduce((lambda x, y: (x) * (y)), uniqueValues)\n",
    "    \n",
    "    print(\"Number of Instances = \" + str(nInstances))\n",
    "    print(\"Number of Syntactial = \" + str(nSyntactial))\n",
    "    print(\"Number of Semantic = \" + str(nSemantic))\n",
    "    \n",
    "    return [nInstances, nSyntactial, nSemantic]\n",
    "\n",
    "def list_to_string(ln):\n",
    "    temp = \"\"\n",
    "    for x in ln:\n",
    "        temp+=x\n",
    "        temp+=\" \"\n",
    "    return temp\n",
    "\n",
    "def findS_algorithm(data, positive_value = \"yes\"):\n",
    "    hypothesis = [\"Φ\" for _ in range(data.shape[1]-1)]\n",
    "    columns = data.columns\n",
    "    print(\"Initial value of hypothesis: \"+ list_to_string(hypothesis))\n",
    "    first_value = True\n",
    "    i = 0\n",
    "    while(i < data.shape[0]):\n",
    "        if(data.iloc[i,-1] != positive_value):\n",
    "            i+=1\n",
    "            continue\n",
    "        value = list(data.iloc[i,:-1])\n",
    "        if(first_value):\n",
    "            hypothesis = list(data.iloc[i,:-1])\n",
    "            first_value = False\n",
    "        else:\n",
    "            for item in range(len(value)):\n",
    "                if(value[item] != hypothesis[item]):\n",
    "                    hypothesis[item] = \"?\"\n",
    "        print(\"Hypothesis value after data example \"+ str(i+1)+\": \"+list_to_string(hypothesis))\n",
    "        i+=1\n",
    "    return hypothesis"
   ]
  },
  {
   "cell_type": "code",
   "execution_count": 6,
   "metadata": {},
   "outputs": [
    {
     "name": "stdout",
     "output_type": "stream",
     "text": [
      "Number of Instances = 72\n",
      "Number of Syntactial = 1600\n",
      "Number of Semantic = 433\n"
     ]
    },
    {
     "data": {
      "text/plain": [
       "[72, 1600, 433]"
      ]
     },
     "execution_count": 6,
     "metadata": {},
     "output_type": "execute_result"
    }
   ],
   "source": [
    "find_dataset_info(data)"
   ]
  },
  {
   "cell_type": "code",
   "execution_count": 7,
   "metadata": {},
   "outputs": [
    {
     "name": "stdout",
     "output_type": "stream",
     "text": [
      "Initial value of hypothesis: Φ Φ Φ Φ Φ \n",
      "Hypothesis value after data example 2: one many not ok big no \n",
      "Hypothesis value after data example 4: ? many not ok ? no \n",
      "Hypothesis value after data example 5: ? many ? ? no \n"
     ]
    },
    {
     "data": {
      "text/plain": [
       "['?', 'many', '?', '?', 'no']"
      ]
     },
     "execution_count": 7,
     "metadata": {},
     "output_type": "execute_result"
    }
   ],
   "source": [
    "findS_algorithm(data) "
   ]
  },
  {
   "cell_type": "code",
   "execution_count": null,
   "metadata": {},
   "outputs": [],
   "source": []
  }
 ],
 "metadata": {
  "kernelspec": {
   "display_name": "Python 3 (ipykernel)",
   "language": "python",
   "name": "python3"
  },
  "language_info": {
   "codemirror_mode": {
    "name": "ipython",
    "version": 3
   },
   "file_extension": ".py",
   "mimetype": "text/x-python",
   "name": "python",
   "nbconvert_exporter": "python",
   "pygments_lexer": "ipython3",
   "version": "3.9.7"
  }
 },
 "nbformat": 4,
 "nbformat_minor": 4
}
